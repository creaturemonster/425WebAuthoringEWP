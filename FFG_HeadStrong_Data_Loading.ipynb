{
  "nbformat": 4,
  "nbformat_minor": 0,
  "metadata": {
    "colab": {
      "provenance": [],
      "include_colab_link": true
    },
    "kernelspec": {
      "name": "python3",
      "display_name": "Python 3"
    },
    "language_info": {
      "name": "python"
    }
  },
  "cells": [
    {
      "cell_type": "markdown",
      "metadata": {
        "id": "view-in-github",
        "colab_type": "text"
      },
      "source": [
        "<a href=\"https://colab.research.google.com/github/creaturemonster/425WebAuthoringEWP/blob/master/FFG_HeadStrong_Data_Loading.ipynb\" target=\"_parent\"><img src=\"https://colab.research.google.com/assets/colab-badge.svg\" alt=\"Open In Colab\"/></a>"
      ]
    },
    {
      "cell_type": "code",
      "source": [
        "pip install faker"
      ],
      "metadata": {
        "colab": {
          "base_uri": "https://localhost:8080/"
        },
        "id": "Pb4n4QVpuG8k",
        "outputId": "a79ea651-6251-4b90-f1fe-b19fb3116913"
      },
      "execution_count": 1,
      "outputs": [
        {
          "output_type": "stream",
          "name": "stdout",
          "text": [
            "Collecting faker\n",
            "  Downloading Faker-20.0.0-py3-none-any.whl (1.7 MB)\n",
            "\u001b[2K     \u001b[90m━━━━━━━━━━━━━━━━━━━━━━━━━━━━━━━━━━━━━━━━\u001b[0m \u001b[32m1.7/1.7 MB\u001b[0m \u001b[31m16.5 MB/s\u001b[0m eta \u001b[36m0:00:00\u001b[0m\n",
            "\u001b[?25hRequirement already satisfied: python-dateutil>=2.4 in /usr/local/lib/python3.10/dist-packages (from faker) (2.8.2)\n",
            "Requirement already satisfied: six>=1.5 in /usr/local/lib/python3.10/dist-packages (from python-dateutil>=2.4->faker) (1.16.0)\n",
            "Installing collected packages: faker\n",
            "Successfully installed faker-20.0.0\n"
          ]
        }
      ]
    },
    {
      "cell_type": "code",
      "execution_count": 2,
      "metadata": {
        "id": "AHlLpx3JtYix"
      },
      "outputs": [],
      "source": [
        "import random\n",
        "import pandas as pd\n",
        "from faker import Faker\n",
        "from faker.providers import DynamicProvider"
      ]
    },
    {
      "cell_type": "code",
      "source": [
        "import csv\n",
        "from datetime import datetime"
      ],
      "metadata": {
        "id": "Kc60YRDOodbx"
      },
      "execution_count": 3,
      "outputs": []
    },
    {
      "cell_type": "code",
      "source": [
        "fake=Faker()"
      ],
      "metadata": {
        "id": "GujOciwbtgvF"
      },
      "execution_count": 4,
      "outputs": []
    },
    {
      "cell_type": "code",
      "source": [
        "opportunity=[]\n",
        "for _ in range(1000):\n",
        "  opportunity_name = fake.catch_phrase()\n",
        "  account_name = fake.company()\n",
        "  amount = random.randint(1000, 100000)\n",
        "  stage = random.choice(['Prospecting', 'Qualification', 'Proposal', 'Negotiation', 'Closed'])\n",
        "  close_date = fake.date_between(start_date='-30d', end_date='+30d')\n",
        "  close_date_formatted = close_date.strftime('%mm/%dd/%YYYY')\n",
        "  opportunity_record_type = random.choice(['Classy', 'Default', 'Major Gift', 'Matching Donation', 'Membership', 'Grants', 'Donations'])\n",
        "  dedication_name = fake.name()\n",
        "  opportunity.append([opportunity_name, account_name, amount, stage, close_date, opportunity_record_type, dedication_name])\n",
        "  opportunity_df = pd.DataFrame(opportunity, columns=['Opportunity Name', 'Account Name', 'Amount', 'Stage', 'Close Date',\n",
        "                                 'Opportunity Record Type', 'Dedication Name'])\n",
        "  opportunity_df.to_csv('opportunities.csv', index=False)"
      ],
      "metadata": {
        "id": "W6-m1FDwtlhz"
      },
      "execution_count": 5,
      "outputs": []
    },
    {
      "cell_type": "code",
      "source": [
        "activities=[]\n",
        "for _ in range(1000):\n",
        "  engagement_plan=fake.unique.text()\n",
        "  engagement_plan_task=fake.unique.name()\n",
        "  sync_with_miriCalendar=fake.unique.text()\n",
        "  update_type=fake.unique.text()\n",
        "  activities.append([engagement_plan, engagement_plan_task, sync_with_miriCalendar, update_type])\n",
        "  activity=pd.DataFrame(activities, columns=['Engagement Plan', 'Engagement Plan Task', 'Sync with MiriCalendar', 'Update Type'])\n",
        "  activity.to_csv('activities.csv', index=False)"
      ],
      "metadata": {
        "id": "hb0LbASHiYzt"
      },
      "execution_count": 6,
      "outputs": []
    },
    {
      "cell_type": "code",
      "source": [
        "client_sessions=[]\n",
        "\n",
        "for _ in range(1000):\n",
        "  therapist_acct=fake.company()\n",
        "  therapist_name=fake.name()\n",
        "  invoice=fake.random_int(min=1000, max=9999)\n",
        "  client_name=fake.name()\n",
        "  caseNumber=fake.random_int()\n",
        "  session_date=fake.date_between(start_date='-25y', end_date='today')\n",
        "  session_type=random.choice(['Individual', 'Group'])\n",
        "  amount_to_be_paid=fake.random_int(min=50, max=200)\n",
        "  approved_for_payment=random.choice(['Yes', 'No'])\n",
        "  delete_session=random.choice(['Yes', 'No'])\n",
        "  billing_notes=fake.sentence()\n",
        "  invoice_status=random.choice(['Paid', 'Pending', 'Cancelled'])\n",
        "  invoice_created_date = fake.date_between(start_date=session_date, end_date='today')\n",
        "  row = [\n",
        "        caseNumber,\n",
        "        therapist_acct,\n",
        "        therapist_name,\n",
        "        invoice,\n",
        "        client_name,\n",
        "        session_date,\n",
        "        session_type,\n",
        "        amount_to_be_paid,\n",
        "        approved_for_payment,\n",
        "        delete_session,\n",
        "        billing_notes,\n",
        "        invoice_status,\n",
        "        invoice_created_date\n",
        "    ]\n",
        "\n",
        "  client_sessions.append(row)\n",
        "\n",
        "client_sessions_df=pd.DataFrame(client_sessions, columns=row)\n",
        "client_sessions_df.to_csv('client_sessions.csv', index=False)\n"
      ],
      "metadata": {
        "id": "6UhU8KarRteS"
      },
      "execution_count": 7,
      "outputs": []
    },
    {
      "cell_type": "code",
      "source": [
        "# Generate 1000 rows of fake data\n",
        "invoices = []\n",
        "for _ in range(1000):\n",
        "    invoice_number = fake.random_int(min=1000, max=9999)\n",
        "    therapist = fake.name()\n",
        "    invoice_date = fake.date_between(start_date='-1y', end_date='today')\n",
        "    invoice_amount = fake.random_int(min=100, max=1000)\n",
        "    invoice_approved_date = fake.date_between(start_date=invoice_date, end_date='today')\n",
        "    invoice_status = random.choice(['Paid', 'Pending', 'Cancelled'])\n",
        "\n",
        "    columns = [\n",
        "        invoice_number,\n",
        "        therapist,\n",
        "        invoice_date,\n",
        "        invoice_amount,\n",
        "        invoice_approved_date,\n",
        "        invoice_status\n",
        "    ]\n",
        "\n",
        "    invoices.append(columns)\n",
        "\n",
        "invoices_df=pd.DataFrame(invoices, columns=columns)\n",
        "invoices_df.to_csv('invoices.csv', index=False)\n"
      ],
      "metadata": {
        "id": "FrfRKFbp2Ssj"
      },
      "execution_count": 8,
      "outputs": []
    },
    {
      "cell_type": "code",
      "source": [
        "#Generate 1000 rows of fake data for Camapigns\n",
        "campaigns=[]\n",
        "for _ in range(1000):\n",
        "  amountAllOpportunities=fake.currency()\n",
        "  amountWonOpportunities=fake.currency()\n",
        "  createdBy = fake.name()\n",
        "  lastModifiedBy=fake.name()\n",
        "  name=fake.unique.name()\n",
        "  numberOfContacts=fake.random_int()\n",
        "  numberOfConverteLeads=fake.random_int()\n",
        "  numberOfLeads=fake.random_int()\n",
        "  numberOfOpportunities=fake.random_int()\n",
        "  numberOfResponses=fake.random_int()\n",
        "  numberOfWaveOpportunities=fake.random_int()\n",
        "  owner=fake.unique.name()\n",
        "\n",
        "  columns =[amountAllOpportunities, amountWonOpportunities, createdBy]\n",
        "\n",
        "  campaigns.append(columns)\n",
        "  campaigns_df=pd.DataFrame(campaigns, columns=columns)\n",
        "  campaigns_df.to_csv('campaigns.csv', index=False)"
      ],
      "metadata": {
        "id": "_gyVd42MUJqZ"
      },
      "execution_count": 9,
      "outputs": []
    },
    {
      "cell_type": "code",
      "source": [
        "#@title Contacts\n",
        "contacts=[]\n",
        "for _ in range(2000):\n",
        "  salutation=random.choice(['Ms', 'Mrs', 'Mr'])\n",
        "  accountName=fake.random_int()\n",
        "  if salutation == 'Mrs' or salutation == 'Ms':\n",
        "    gender='Female'\n",
        "    firstName=fake.first_name_female()\n",
        "    lastName=fake.last_name_female()\n",
        "  elif salutation == 'Mr':\n",
        "    gender = 'Male'\n",
        "    firstName=fake.first_name_male()\n",
        "    lastName=fake.last_name_male()\n",
        "  email=fake.email()\n",
        "  birthdate=fake.date_of_birth()\n",
        "  householdIncome=fake.currency()\n",
        "  homeAddress = fake.address();\n",
        "  accountName=fake.company()\n",
        "  contactRecordType=random.choice(['Client', 'Clinician', 'Psychiatrist', 'Potential Clinician'])\n",
        "  accountRecordType=random.choice(['Client', 'Clinician', 'Psychiatrist', 'Potential Clinician'])\n",
        "  contactType=random.choice(['Client', 'Clinician', 'Psychiatrist', 'Potential Clinician'])\n",
        "  if contactType == 'Client':\n",
        "    of_Dependents_in_Household=fake.random_int(0,99)\n",
        "    Access_to_a_Personal_Computer=random.choice(['Yes', 'No', 'N/A'])\n",
        "    Access_to_Broadband_Internet_in_Residenc=random.choice(['Yes', 'No', 'N/A'])\n",
        "  elif contactType == 'Clinician':\n",
        "    Accepting_New_Clients=random.choice(['Yes', 'No'])\n",
        "    Assigned_Cases=fake.random_int(0, 999)\n",
        "  income=fake.random_int(20000, 10000000)\n",
        "  mailingStreetAddress=fake.street_address()\n",
        "  mailingState=fake.state_abbr()\n",
        "  mailingPostCode=fake.postcode_in_state()\n",
        "  mailingZipCode=fake.zipcode_in_state()\n",
        "  mailingCountry=fake.current_country()\n",
        "  incomeRange=random.choice(['Less than $20000', 'Between $20000 and $34999', 'Between $35000 and $49999', 'Between $50000 and $74999', 'Between $75000 and $99999', 'Over $100000'])\n",
        "  race=random.choice(['Asian', 'American Indian or Alaska Native', 'Black or African American', 'Hispanic/Latino', 'Multicultural/Other', 'Native Hawaiian or Pacific Islander', 'White/Caucasian', 'White - Hispanic/Latino', 'Other', 'Did not disclose'])\n",
        "  ethnicity=random.choice(['None', 'Hispanic/Latino'])\n",
        "  headers=['Salutation', 'First Name', 'Last Name', 'Email', 'Gender', 'Birthdate', 'Household Income', 'Account Name', 'Contact Record Type', 'Account Record Type', 'Race', 'Ethnicity']\n",
        "  branchOfService=random.choice(['navy', 'coast guard', 'army', 'marine corp', 'space force', 'air force'])\n",
        "  eraOfService=random.choice(['Desert Storm', 'OIF/OEF/OND', 'Vietnam', 'Other'])\n",
        "  serviceType=random.choice(['Active Duty', 'Reserve', 'Guard'])\n",
        "  currentStatus=random.choice(['Currently Serving', 'Retired/Separated'])\n",
        "  totalIndividualSessions = fake.random_int(0, 1000)\n",
        "  totalNeuroFeedbackSessions = fake.random_int(0, 1000)\n",
        "  sessionDate=fake.date_between_dates(date_start=datetime(2015, 1,1), date_end=datetime(2019,12,31)).year\n",
        "  columns=[salutation, firstName, lastName, email, homeAddress, gender, birthdate, mailingStreetAddress, mailingState, mailingPostCode, mailingZipCode, mailingCountry, householdIncome, accountName, contactRecordType, accountRecordType, contactType, race, ethnicity, income, incomeRange, branchOfService, eraOfService, serviceType, currentStatus, totalIndividualSessions, totalNeuroFeedbackSessions, sessionDate]\n",
        "  contacts.append(columns)\n",
        "  contacts_df=pd.DataFrame(contacts, columns=columns)\n",
        "  contacts_df.to_csv('contacts.csv', index=False)"
      ],
      "metadata": {
        "id": "7IUU9tvlDnbz"
      },
      "execution_count": 10,
      "outputs": []
    },
    {
      "cell_type": "code",
      "source": [
        "clinicians=[]\n",
        "salutation=random.choice(['Ms', 'Mrs', 'Mr'])\n",
        "accountName=fake.random_int()\n",
        "if salutation == 'Mrs' or salutation == 'Ms':\n",
        "  gender='Female'\n",
        "  firstName=fake.first_name_female()\n",
        "  lastName=fake.last_name_female()\n",
        "elif salutation == 'Mr':\n",
        "  gender = 'Male'\n",
        "  firstName=fake.first_name_male()\n",
        "  lastName=fake.last_name_male()\n",
        "  email=fake.email()\n",
        "  birthdate=fake.date_of_birth()\n",
        "  householdIncome=fake.currency()\n",
        "  homeAddress = fake.address();\n",
        "  accountName=fake.company()\n",
        "  contactRecordType='Clinician'\n",
        "  accountRecordType='Clinician'\n",
        "  contactType='Clinician'\n",
        "  income=fake.random_int(20000, 10000000)\n",
        "  mailingStreetAddress=fake.street_address()\n",
        "  mailingState=fake.state_abbr()\n",
        "  mailingPostCode=fake.postcode_in_state()\n",
        "  mailingZipCode=fake.zipcode_in_state()\n",
        "  mailingCountry=fake.current_country()\n",
        "  incomeRange=random.choice(['Less than $20000', 'Between $20000 and $34999', 'Between $35000 and $49999', 'Between $50000 and $74999', 'Between $75000 and $99999', 'Over $100000'])\n",
        "  race=random.choice(['Asian', 'American Indian or Alaska Native', 'Black or African American', 'Hispanic/Latino', 'Multicultural/Other', 'Native Hawaiian or Pacific Islander', 'White/Caucasian', 'White - Hispanic/Latino', 'Other', 'Did not disclose'])\n",
        "  ethnicity=random.choice(['None', 'Hispanic/Latino'])\n",
        "  branchOfService=random.choice(['navy', 'coast guard', 'army', 'marine corp', 'space force', 'air force'])\n",
        "  eraOfService=random.choice(['Desert Storm', 'OIF/OEF/OND', 'Vietnam', 'Other'])\n",
        "  serviceType=random.choice(['Active Duty', 'Reserve', 'Guard'])\n",
        "  currentStatus=random.choice(['Currently Serving', 'Retired/Separated'])\n",
        "  totalIndividualSessions = fake.random_int(0, 1000)\n",
        "  totalNeuroFeedbackSessions = fake.random_int(0, 1000)\n",
        "  sessionDate=fake.date_between_dates(date_start=datetime(2015, 1,1), date_end=datetime(2019,12,31)).year\n",
        "  columns=[salutation, firstName, lastName, email, homeAddress, gender,birthdate,mailingStreetAddress, mailingState, mailingPostCode, mailingZipCode, mailingCountry, householdIncome, accountName, contactRecordType, accountRecordType, contactType, race, ethnicity, income, incomeRange, branchOfService, eraOfService, serviceType, currentStatus, totalIndividualSessions, totalNeuroFeedbackSessions, sessionDate]\n",
        "  clinicians.append(columns)\n",
        "  clinicians_contacts_df=pd.DataFrame(clinicians, columns=columns)\n",
        "  clinicians_contacts_df.to_csv('clinician_contacts.csv', index=True)"
      ],
      "metadata": {
        "id": "uRzZqK-a62ub"
      },
      "execution_count": 11,
      "outputs": []
    },
    {
      "cell_type": "code",
      "source": [
        "accounts=[]\n",
        "for _ in range(10000):\n",
        "  accountName=fake.company()\n",
        "  account_type=random.choice(['Household', 'Donor'])\n",
        "  shippingAddress=fake.address()\n",
        "  shippingCity=fake.city()\n",
        "  shippingState=fake.state()\n",
        "  shippingZip=fake.zipcode()\n",
        "  shippingCountry=\"USA\"\n",
        "  billingAddress=fake.address()\n",
        "  billingCity=fake.city()\n",
        "  billingState=fake.state()\n",
        "  billingZipCode=fake.zipcode()\n",
        "  billingCountry=\"USA\"\n",
        "  phone=fake.phone_number()\n",
        "  programMarket=random.choice(['New York City, NY','Houston, TX', 'Los Angeles, CA', 'Rochester, NY', 'Chicago, IL', 'San Francisco, CA', 'Washington, DC','Ithaca, NY', 'Buffalo, NY', 'Denver, CO', 'Colorado Springs, CO','Seattle, WA', 'Atlanta, GA', 'Philadelphia, PA', 'Virginia Beach, VA', 'Albany, NY','Out of Market', 'Ineligible Lead', 'Non-Clinical'])\n",
        "  numberOfHouseholdMembers=fake.random_int(0,12)\n",
        "  accountRecordType=random.choice(['Classy', 'Client', 'Clinician', 'Club', 'Co-Venture', 'Corporate Donor', 'Corporate Partner', 'Donor Advised Fund', 'Education', 'Foundation', 'Giving Platform',\n",
        "                                   'Government Donor', 'Household', 'Non-Profit', 'Referral Partner', 'Social Network'])\n",
        "  accountSource = random.choice(['Phone Inquiry', 'Partner Referral', 'Purchased List', 'Web', 'Web to Lead', 'Other', 'Clinician Inquiry'])\n",
        "  headerList=['accountName', 'account_type', 'account record type' ,'billingAddress', 'billingCity', 'billingState', 'billingZipCode', 'billingCountry', 'shippingStreet','shippingCity', 'shippingState', 'shippingZipCode', 'shippingCountry','Program Market', 'Number of Household Members', 'Account Phone']\n",
        "  columns=[accountName, account_type, accountRecordType, billingAddress, billingCity, billingState, billingZipCode, billingCountry,shippingAddress, shippingCity, shippingState, shippingZip, shippingCountry,  programMarket, numberOfHouseholdMembers, phone]\n",
        "\n",
        "  accounts.append(columns)\n",
        "  accounts_df=pd.DataFrame(accounts, columns=columns)\n",
        "  accounts_df.to_csv('accounts.csv', header=headerList, index=False)"
      ],
      "metadata": {
        "id": "sKmKEM53XhNP"
      },
      "execution_count": 21,
      "outputs": []
    },
    {
      "cell_type": "code",
      "source": [
        "#@title Cases\n",
        "cases=[]\n",
        "for _ in range(1000):\n",
        "  case_number=fake.random_int(1, 1000)\n",
        "  case_owner=\"Henggao Cai\"\n",
        "  case_record_type=random.choice(['Client', 'Clinician'])\n",
        "  case_source=random.choice(['Social', 'Post', 'Email Message'])\n",
        "  contact_name=fake.first_name()\n",
        "  accountName=fake.company()\n",
        "  city=fake.city()\n",
        "  gender=random.choice(['Male', 'Female'])\n",
        "  caseRecordType=random.choice(['Client Referral', 'Standard Client'])\n",
        "  state=fake.state()\n",
        "  householdIncome=fake.random_int(20000, 200000)\n",
        "  columns=[accountName, city, gender, caseRecordType, state, householdIncome, case_source, case_record_type, contact_name, case_number, case_owner]\n",
        "  cases.append(columns)\n",
        "  cases_df=pd.DataFrame(cases, columns=columns)\n",
        "  cases_df.to_csv('cases.csv', index=False)"
      ],
      "metadata": {
        "id": "_Fgo-ccOXnV0"
      },
      "execution_count": 13,
      "outputs": []
    },
    {
      "cell_type": "markdown",
      "source": [
        "Clinical Data"
      ],
      "metadata": {
        "id": "ikLmtuyoaU04"
      }
    },
    {
      "cell_type": "code",
      "source": [
        "clinical_data=[]\n",
        "for _ in range(250):\n",
        "  case_c=fake.random_int(0, 10)\n",
        "  client_c=fake.random_int(0, 10)\n",
        "  client_session=fake.random_int(0,10)\n",
        "  clinical_data_name=fake.first_name()\n",
        "  patient_id=fake.random_int(0,999)\n",
        "  record_type=random.choice(['Client', 'Clinician', 'Psychiatrist', 'Potential Clinician' ])\n",
        "  clinical_data_record_type='Outcome Form'\n",
        "  session_date=fake.date()\n",
        "  first_therapy=random.choice(['Yes', 'No'])\n",
        "  columns=[case_c, client_c, client_session, clinical_data, patient_id, record_type, session_date, first_therapy, clinical_data_record_type]\n",
        "  clinical_data.append(columns)\n",
        "  clinical_data_df=pd.DataFrame(clinical_data, columns=columns)\n",
        "  clinical_data_df.to_csv('clinical_data.csv', index=False)"
      ],
      "metadata": {
        "id": "F3jVnYK6aUR2"
      },
      "execution_count": 14,
      "outputs": []
    },
    {
      "cell_type": "code",
      "source": [
        "from datetime import datetime"
      ],
      "metadata": {
        "id": "APFh1czcpbx8"
      },
      "execution_count": 15,
      "outputs": []
    },
    {
      "cell_type": "code",
      "source": [
        "invoices=[]\n",
        "for _ in range(1000):\n",
        "  invoice_number=fake.random_int(0,999)\n",
        "  accountName=fake.random_int()\n",
        "  therapist=fake.first_name()\n",
        "  invoice_date=fake.date_between(datetime(2019, 1, 7), datetime(2023,8, 16))\n",
        "  invoice_status=random.choice(['Pending', 'In Review', 'Approved', 'Submitted for Payment', 'Paid', 'Not Approved', 'Duplicate'])\n",
        "  columns=[invoice_number, accountName,  therapist, invoice_status, invoice_date]\n",
        "  invoices.append(columns)\n",
        "  invoices_df=pd.DataFrame(invoices, columns=columns)\n",
        "  invoices_df.to_csv('invoices.csv', index=False)"
      ],
      "metadata": {
        "id": "SaMDUpWl-5MB"
      },
      "execution_count": 16,
      "outputs": []
    },
    {
      "cell_type": "code",
      "source": [
        "cases=[]\n",
        "for _ in range(1000):\n",
        "  recordType=random.choice(['Standard Client', 'Client Referral'])\n",
        "  status=random.choice(['New', 'Awaiting Intake', 'Phone Intake Complete', 'Assigned to Services', 'Closed'])\n",
        "  headersList=['Record Type', 'Status']\n",
        "  columns=[recordType, status]\n",
        "  cases.append(columns)\n",
        "  case_df=pd.DataFrame(cases, columns=columns)\n",
        "  case_df.to_csv('cases.csv', header=headersList, index=False)"
      ],
      "metadata": {
        "id": "52FQtELOAjs8"
      },
      "execution_count": 17,
      "outputs": []
    },
    {
      "cell_type": "code",
      "source": [
        "opportunity=[]\n",
        "for _ in range(1000):\n",
        "  opportunity_name=fake.company()\n",
        "  account_name=fake.unique.company()\n",
        "  stage=random.choice(['Prospecting', 'Cultivation', 'Proposal Submitted', 'Pledged', 'Withdrawn', 'Closed Won', 'Closed Lost', 'Refunded'])\n",
        "  close_date=fake.date_between(start_date=datetime(2019, 1, 7), end_date=datetime(2023,8,16))\n",
        "  leadSource=random.choice(['Phone Inquiry', 'Partner Referral', 'Purchased List', 'Web', 'Web to Lead', 'Other'])\n",
        "  donationType=random.choice(['FUND A NEED', 'Live Auction Item', 'General Donation', 'Ticket Sales', 'Ad', 'Raffle Tickets', 'In Kind'])\n",
        "  tcv=random.choice([5,10,15,20,100, 1000, 2000,10000, 100000])\n",
        "  acv=random.choice([10000,20000,30000,40000,500000,60000])\n",
        "  amount=fake.pricetag()\n",
        "  headerList=['Opportunity Name', 'Account Name', 'Stage', 'Close Date', 'Lead Source', 'Donation Type', 'Total Contract Value', 'Annual Contract Value', 'Amount']\n",
        "  columns=[opportunity_name, account_name, stage, close_date, leadSource, donationType, tcv, acv, amount]\n",
        "  opportunity.append(columns)\n",
        "  opportunity_df=pd.DataFrame(opportunity, columns=columns)\n",
        "  opportunity_df.to_csv('opportunities.csv', header=headerList, index=False)"
      ],
      "metadata": {
        "id": "uGBkHv73DA2y"
      },
      "execution_count": 18,
      "outputs": []
    },
    {
      "cell_type": "code",
      "source": [
        "invoices=[]\n",
        "for _ in range(1000):\n",
        "  invoice_number=fake.random_int(0, 999)\n",
        "  therapistName=fake.first_name()\n",
        "  accountName=fake.unique.company()\n",
        "  invoiceDate=fake.date_between(start_date=datetime(2019, 1, 7), end_date=datetime(2023,8,16))\n",
        "  status=random.choice(['In Review', 'Pending', 'Approved', 'Submitted for Payment', 'Paid', 'Not Approved', 'Duplicate'])\n",
        "  paymentCheckNumber=fake.random_int(0,999)\n",
        "  headerList=['Invoice Number', 'Therapist', 'Account','Invoice Date', 'Status', 'Payment Check Number']\n",
        "  columns=[invoice_number, therapistName, accountName, invoiceDate, status, paymentCheckNumber]\n",
        "  invoices.append(columns)\n",
        "  invoices_df=pd.DataFrame(invoices, columns=columns)\n",
        "  invoices_df.to_csv('invoice.csv', header=headerList, index=False)"
      ],
      "metadata": {
        "id": "StQfEflso9R4"
      },
      "execution_count": 19,
      "outputs": []
    },
    {
      "cell_type": "code",
      "source": [
        "campaigns=[]\n",
        "for _ in range(1000):\n",
        "  campaign_name=fake.unique.company()\n",
        "  campaign_owner=\"Henggao Cai\"\n",
        "  campaign_record_type=random.choice(['Client', 'Clinician', 'Psychiatrist', 'Potential Clinician' ])\n",
        "  headerList=['campaign_name', 'campaign_owner', 'campaign_record_type']\n",
        "  columns=[campaign_name, campaign_owner, campaign_record_type]\n",
        "  campaigns.append(columns)\n",
        "  campaigns_df=pd.DataFrame(campaigns, columns=columns)\n",
        "  campaigns_df.to_csv('campaigns.csv', header=headerList, index=False)"
      ],
      "metadata": {
        "id": "79HkiUpaZdIP"
      },
      "execution_count": 20,
      "outputs": []
    }
  ]
}